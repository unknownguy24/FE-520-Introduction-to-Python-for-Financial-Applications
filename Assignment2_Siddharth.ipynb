{
 "cells": [
  {
   "cell_type": "markdown",
   "id": "cf8f26bb",
   "metadata": {},
   "source": [
    "# Question 1"
   ]
  },
  {
   "cell_type": "code",
   "execution_count": 41,
   "id": "525b36e3",
   "metadata": {},
   "outputs": [
    {
     "name": "stdout",
     "output_type": "stream",
     "text": [
      " For one iteration : \n",
      " w = 0.10275336,c = 0.13336000 \n",
      " For 200 iterations : \n",
      " w = 17.80054897,c = 23.07401741 \n"
     ]
    }
   ],
   "source": [
    "#Step 1: Set initial variables as defined in the question\n",
    "x = [0.18, 1.0, 0.92, 0.07, 0.85, 0.99, 0.87]\n",
    "y = [109.85, 155.72, 137.66, 76.17, 139.75, 162.6, 151.77]\n",
    "w = 0\n",
    "c = 0\n",
    "L = 0.001  \n",
    "\n",
    "#Step 2: For one iteration\n",
    "Dw = [0] * len(x)\n",
    "Dc = [0] * len(x)\n",
    "\n",
    "for i in range(len(x)):\n",
    "    # (a) Calculate ypred\n",
    "    y_pred = x[i] * w + c\n",
    "    \n",
    "    # (b) Calculate xi(ypred - yi), and store it in list Dw\n",
    "    Dw[i] = x[i] * (y_pred - y[i])\n",
    "    \n",
    "    # (c) Calculate (ypred - yi), and store it in list Dc\n",
    "    Dc[i] = y_pred - y[i]\n",
    "\n",
    "#Calculate the average for list Dw and Dc, and assign the values to dw and dc\n",
    "dw = sum(Dw) / len(x)\n",
    "dc = sum(Dc) / len(x)\n",
    "\n",
    "#Update w by: w = w - L * dw\n",
    "w = w - (L * dw)\n",
    "#Update c by: c = c - L * dc\n",
    "c = c - (L * dc)\n",
    "\n",
    "#Answer for one iteration\n",
    "print(f\" For one iteration : \\n w = {w:.8f},c = {c:.8f} \")\n",
    "\n",
    "#Step 3: For 200 iterations\n",
    "\n",
    "#Initializing number of iterations as given in the question\n",
    "num_iterations = 200 \n",
    "for iteration in range(num_iterations):\n",
    "    Dw = [0] * len(x)\n",
    "    Dc = [0] * len(x)\n",
    "\n",
    "    for i in range(len(x)):\n",
    "        #(a) Calculate ypred\n",
    "        y_pred = x[i] * w + c\n",
    "        \n",
    "        #(b) Calculate xi(ypred - yi), and store it in list Dw\n",
    "        Dw[i] = x[i] * (y_pred - y[i])\n",
    "        \n",
    "        #(c) Calculate (ypred - yi), and store it in list Dc\n",
    "        Dc[i] = y_pred - y[i]\n",
    "\n",
    "    #Calculate the average for list Dw and Dc, and assign the values to dw and dc\n",
    "    dw = sum(Dw) / len(x)\n",
    "    dc = sum(Dc) / len(x)\n",
    "\n",
    "    #Update w by: w = w - L * dw\n",
    "    w = w - (L * dw)\n",
    "    #Update c by: c = c - L * dc\n",
    "    c = c - (L * dc)\n",
    "\n",
    "#Answer for 200 iterations\n",
    "print(f\" For 200 iterations : \\n w = {w:.8f},c = {c:.8f} \")"
   ]
  },
  {
   "cell_type": "markdown",
   "id": "1fa4c007",
   "metadata": {},
   "source": [
    "# Question 2"
   ]
  },
  {
   "cell_type": "code",
   "execution_count": 38,
   "id": "a6f56cd2",
   "metadata": {},
   "outputs": [
    {
     "name": "stdout",
     "output_type": "stream",
     "text": [
      "Element-wise AND: [False, True, False, False, False, False, True]\n",
      "Element-wise OR: [True, True, True, True, True, False, True]\n",
      "Element-wise NOT for x: [False, False, True, True, False, True, False]\n",
      "Element-wise NOT for y: [True, False, False, False, True, True, False] \n",
      "\n",
      "For list x, Checking if True takes 40% or more: True\n",
      "For list y, Checking if True takes 40% or more: False\n"
     ]
    }
   ],
   "source": [
    "#PART 1\n",
    "#Initialize the data\n",
    "x = [True, True, False, False, True, False, True]\n",
    "y = [False, True, True, True, False, False, True]\n",
    "\n",
    "#Performing the and, or and not operations\n",
    "result_and = [a and b for a, b in zip(x, y)]\n",
    "result_or = [a or b for a, b in zip(x, y)]\n",
    "result_not_x = [not a for a in x]\n",
    "result_not_y = [not a for a in y]\n",
    "\n",
    "print(\"Element-wise AND:\", result_and)\n",
    "print(\"Element-wise OR:\", result_or)\n",
    "print(\"Element-wise NOT for x:\", result_not_x)\n",
    "print(\"Element-wise NOT for y:\", result_not_y,\"\\n\")\n",
    "\n",
    "#PART 2\n",
    "#Initialize the data\n",
    "x = [True, True, False, False, True]\n",
    "y = [True, False, False, False, False]\n",
    "\n",
    "# Initialize counters \n",
    "count_x = 0\n",
    "count_y = 0\n",
    "\n",
    "#Count the number of True values in list x\n",
    "for value in x:\n",
    "    if value:\n",
    "        count_x += 1\n",
    "\n",
    "#Count the number of True values in list y\n",
    "for value in y:\n",
    "    if value:\n",
    "        count_y += 1\n",
    "\n",
    "#Check if True takes 40% or more of the total elements in x and y\n",
    "if count_x / len(x) >= 0.4:\n",
    "    result_x = True\n",
    "else:\n",
    "    result_x = False\n",
    "\n",
    "if count_y / len(y) >= 0.4:\n",
    "    result_y = True\n",
    "else:\n",
    "    result_y = False\n",
    "\n",
    "print(\"For list x, Checking if True takes 40% or more:\", result_x)\n",
    "print(\"For list y, Checking if True takes 40% or more:\", result_y)"
   ]
  },
  {
   "cell_type": "markdown",
   "id": "3d6bf0a1",
   "metadata": {},
   "source": [
    "# Question 3"
   ]
  },
  {
   "cell_type": "code",
   "execution_count": 39,
   "id": "341ae96b",
   "metadata": {},
   "outputs": [
    {
     "name": "stdout",
     "output_type": "stream",
     "text": [
      "PART 1 OUTPUT \n",
      "String defined -  python is an interpreted dynamic programming language \n",
      "\n",
      "PART 2 OUTPUT \n",
      "List created - ['p', 'y', 't', 'h', 'o', 'n', 'i', 's', 'a', 'n', 'i', 'n', 't', 'e', 'r', 'p', 'r', 'e', 't', 'e', 'd', 'd', 'y', 'n', 'a', 'm', 'i', 'c', 'p', 'r', 'o', 'g', 'r', 'a', 'm', 'm', 'i', 'n', 'g', 'l', 'a', 'n', 'g', 'u', 'a', 'g', 'e'] \n",
      "\n",
      "PART 3 OUTPUT \n",
      "Output for part 3 {'p': 3, 'y': 2, 't': 3, 'h': 1, 'o': 2, 'n': 6, 'i': 4, 's': 1, 'a': 5, 'e': 4, 'r': 4, 'd': 2, 'm': 3, 'c': 1, 'g': 4, 'l': 1, 'u': 1} \n",
      "\n",
      "PART 4 OUTPUT \n",
      "Characters that appear more than 1 time are as follows\n",
      "'p': 3\n",
      "'y': 2\n",
      "'t': 3\n",
      "'o': 2\n",
      "'n': 6\n",
      "'i': 4\n",
      "'a': 5\n",
      "'e': 4\n",
      "'r': 4\n",
      "'d': 2\n",
      "'m': 3\n",
      "'g': 4\n"
     ]
    }
   ],
   "source": [
    "#PART 1\n",
    "sid = 'python is an interpreted dynamic programming language'\n",
    "print(\"PART 1 OUTPUT \\nString defined - \", sid,\"\\n\")\n",
    "\n",
    "#PART 2\n",
    "list_A = list(sid.replace(\" \", \"\"))\n",
    "print(\"PART 2 OUTPUT \\nList created -\", list_A,\"\\n\")\n",
    "\n",
    "#PART 3\n",
    "unique_char = {}\n",
    "for i in list_A:\n",
    "    unique_char[i] = unique_char.get(i, 0) + 1\n",
    "\n",
    "print(\"PART 3 OUTPUT \\nOutput for part 3\", unique_char,\"\\n\")\n",
    "\n",
    "#PART 4\n",
    "print(\"PART 4 OUTPUT \\nCharacters that appear more than 1 time are as follows\")\n",
    "for i,count in unique_char.items():\n",
    "    if count > 1:\n",
    "        print(f\"'{i}': {count}\")\n"
   ]
  },
  {
   "cell_type": "markdown",
   "id": "573bc803",
   "metadata": {},
   "source": [
    "# Question 4"
   ]
  },
  {
   "cell_type": "code",
   "execution_count": 40,
   "id": "33c6bcef",
   "metadata": {},
   "outputs": [
    {
     "name": "stdout",
     "output_type": "stream",
     "text": [
      "Average for A is 3.5\n"
     ]
    }
   ],
   "source": [
    "A = [1, 2, 3, 4, 5, 6]\n",
    "add = 0\n",
    "\n",
    "#Loop \n",
    "for i in A:\n",
    "    add += i\n",
    "\n",
    "Avg_A= add / len(A)\n",
    "print(\"Average for A is\", Avg_A)"
   ]
  },
  {
   "cell_type": "code",
   "execution_count": null,
   "id": "cdc2745b",
   "metadata": {},
   "outputs": [],
   "source": []
  }
 ],
 "metadata": {
  "kernelspec": {
   "display_name": "Python 3 (ipykernel)",
   "language": "python",
   "name": "python3"
  },
  "language_info": {
   "codemirror_mode": {
    "name": "ipython",
    "version": 3
   },
   "file_extension": ".py",
   "mimetype": "text/x-python",
   "name": "python",
   "nbconvert_exporter": "python",
   "pygments_lexer": "ipython3",
   "version": "3.9.12"
  }
 },
 "nbformat": 4,
 "nbformat_minor": 5
}
